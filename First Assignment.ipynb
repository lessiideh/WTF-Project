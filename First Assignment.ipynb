{
 "cells": [
  {
   "cell_type": "markdown",
   "id": "c3f8e97a",
   "metadata": {},
   "source": [
    "# 1) Print all elements of a list using for loop."
   ]
  },
  {
   "cell_type": "code",
   "execution_count": 3,
   "id": "73bcb32d",
   "metadata": {},
   "outputs": [
    {
     "name": "stdout",
     "output_type": "stream",
     "text": [
      "Abia\n",
      "Adamawa\n",
      "Benue\n",
      "Edo\n",
      "Lagos\n",
      "Nassarawa\n",
      "Rivers\n",
      "Imo\n",
      "Osun\n",
      "Taraba\n",
      "Enugu\n"
     ]
    }
   ],
   "source": [
    "States = ['Abia', 'Adamawa', 'Benue', 'Edo', 'Lagos', 'Nassarawa', 'Rivers', 'Imo', 'Osun', 'Taraba', 'Enugu']\n",
    "\n",
    "for state in States:\n",
    "    print(state)"
   ]
  },
  {
   "cell_type": "markdown",
   "id": "d733aaee",
   "metadata": {},
   "source": [
    "# 2) Using range(1,101), make two list, one containing all even numbers and other containing all odd numbers."
   ]
  },
  {
   "cell_type": "code",
   "execution_count": 4,
   "id": "a83abfd8",
   "metadata": {},
   "outputs": [
    {
     "name": "stdout",
     "output_type": "stream",
     "text": [
      " \n",
      "[2, 4, 6, 8, 10, 12, 14, 16, 18, 20, 22, 24, 26, 28, 30, 32, 34, 36, 38, 40, 42, 44, 46, 48, 50, 52, 54, 56, 58, 60, 62, 64, 66, 68, 70, 72, 74, 76, 78, 80, 82, 84, 86, 88, 90, 92, 94, 96, 98, 100]\n",
      " \n",
      "[1, 3, 5, 7, 9, 11, 13, 15, 17, 19, 21, 23, 25, 27, 29, 31, 33, 35, 37, 39, 41, 43, 45, 47, 49, 51, 53, 55, 57, 59, 61, 63, 65, 67, 69, 71, 73, 75, 77, 79, 81, 83, 85, 87, 89, 91, 93, 95, 97, 99]\n",
      " \n",
      "<class 'list'>\n",
      "<class 'list'>\n"
     ]
    }
   ],
   "source": [
    "# creating a list, numbers that contains numbers from 1- 100 using range(1,101)\n",
    "numbers = list(range(1,101))\n",
    "\n",
    "print(\" \")\n",
    "\n",
    "# creating a new list, even_numbers from numbers by slicing, where index 1 is the start point and 2, the stepping point. \n",
    "even_numbers = (numbers[1::2])\n",
    "print(even_numbers)\n",
    "\n",
    "print(\" \")\n",
    "\n",
    "# creating a new list, odd_numbers from numbers by slicing, where index 0 is the start point and 2, the stepping point.\n",
    "odd_numbers = (numbers[0::2])\n",
    "print(odd_numbers)\n",
    "odd_numbers\n",
    "\n",
    "print(\" \")\n",
    "\n",
    "# confirming the data types\n",
    "print(type(even_numbers))\n",
    "print(type(odd_numbers))"
   ]
  },
  {
   "cell_type": "markdown",
   "id": "6f85274e",
   "metadata": {},
   "source": [
    "# 3) A company decided to give bonus of 5% to employee if his/her year of service is more than 5 years. Ask user for their salary and year of service and print the net bonus amount."
   ]
  },
  {
   "cell_type": "markdown",
   "id": "8768e4b8",
   "metadata": {},
   "source": [
    "### User_1"
   ]
  },
  {
   "cell_type": "code",
   "execution_count": 5,
   "id": "011774e1",
   "metadata": {},
   "outputs": [
    {
     "name": "stdout",
     "output_type": "stream",
     "text": [
      "What is your Salary?\n",
      "325000\n",
      "How long have you worked at the company?\n",
      "7\n",
      "Your net bonus is  16250.0\n"
     ]
    }
   ],
   "source": [
    "print(\"What is your Salary?\")\n",
    "Salary = int(input())\n",
    "print(\"How long have you worked at the company?\")\n",
    "Years_worked = int(input())\n",
    "\n",
    "if Years_worked > 5:\n",
    "    print(\"Your net bonus is \", (5/100) * Salary)\n",
    "else:\n",
    "     print(\"You do not qualify for a bonus at this time\")"
   ]
  },
  {
   "cell_type": "markdown",
   "id": "2b698ccf",
   "metadata": {},
   "source": [
    "### User_2"
   ]
  },
  {
   "cell_type": "code",
   "execution_count": 6,
   "id": "e1b418de",
   "metadata": {},
   "outputs": [
    {
     "name": "stdout",
     "output_type": "stream",
     "text": [
      "What is your Salary?\n",
      "124000\n",
      "How long have you worked at the company?\n",
      "4\n",
      "You do not qualify for a bonus at this time\n"
     ]
    }
   ],
   "source": [
    "print(\"What is your Salary?\")\n",
    "Salary = int(input())\n",
    "print(\"How long have you worked at the company?\")\n",
    "Years_worked = int(input())\n",
    "\n",
    "if Years_worked > 5:\n",
    "    print(\"Your net bonus is \", (5/100) * Salary)\n",
    "else:\n",
    "     print(\"You do not qualify for a bonus at this time\")"
   ]
  },
  {
   "cell_type": "markdown",
   "id": "78f920e5",
   "metadata": {},
   "source": [
    "# 4) Take input of age of 3 people by user and determine oldest and youngest among them."
   ]
  },
  {
   "cell_type": "code",
   "execution_count": 7,
   "id": "0b3a065a",
   "metadata": {},
   "outputs": [
    {
     "name": "stdout",
     "output_type": "stream",
     "text": [
      "The youngest amongst them is Aigbe , who is 20 years old.\n",
      "The oldest amongst them is Tunde , who is 32 years old.\n"
     ]
    }
   ],
   "source": [
    "age = {\"Tunde\": 32, \"Aigbe\": 20, \"Deborah\": 23}\n",
    "\n",
    "min(age.values())\n",
    "max(age.values())\n",
    "\n",
    "print(\"The youngest amongst them is \" + min(age.keys()), \", who is \" + str(min(age.values())) ,\"years old.\")\n",
    "print(\"The oldest amongst them is \" + max(age.keys()), \", who is \" + str(max(age.values())), \"years old.\")"
   ]
  },
  {
   "cell_type": "markdown",
   "id": "d949c1a9",
   "metadata": {},
   "source": [
    "# 5) A school has following rules for grading system:\n",
    "i. Below 25 - F\n",
    "\n",
    "ii. 25 - 45 - E\n",
    "\n",
    "iii. 46-50 - D\n",
    "\n",
    "iv. 51 - 60 - C\n",
    "\n",
    "v. 61 - 80 - B\n",
    "\n",
    "vi. above 80 - A"
   ]
  },
  {
   "cell_type": "markdown",
   "id": "fc471c4c",
   "metadata": {},
   "source": [
    "# 6) Ask user to enter marks and print the corresponding grade"
   ]
  },
  {
   "cell_type": "code",
   "execution_count": 8,
   "id": "dcd8dfb7",
   "metadata": {},
   "outputs": [
    {
     "name": "stdout",
     "output_type": "stream",
     "text": [
      "Enter your marks below\n",
      "92\n",
      "Your grade is A\n"
     ]
    }
   ],
   "source": [
    "# creating lists for each grade\n",
    "A = list(range(81,101))     # between 81-100\n",
    "B = list(range(60,81))      # between 60-80\n",
    "C = list(range(51,61))      # between 51-60\n",
    "D = list(range(45, 51))     # between 45-50\n",
    "E = list(range(25, 45))     # between 25-44\n",
    "F = list(range(0,25))       # between 0-24\n",
    "\n",
    "print(\"Enter your marks below\")\n",
    "Marks = int(input())\n",
    "\n",
    "if Marks in A:\n",
    "    print(\"Your grade is A\")\n",
    "elif Marks in B:\n",
    "    print(\"Your grade is B\")\n",
    "elif Marks in C:\n",
    "    print(\"Your grade is C\")\n",
    "elif Marks in D:\n",
    "    print(\"Your grade is D\")\n",
    "elif Marks in E:\n",
    "    print(\"Your grade is E\")\n",
    "elif Marks in F:\n",
    "    print(\"Your grade is F\")"
   ]
  },
  {
   "cell_type": "markdown",
   "id": "036ae5d7",
   "metadata": {},
   "source": [
    "# 7) Write a Python script to merge two Python dictionaries"
   ]
  },
  {
   "cell_type": "code",
   "execution_count": 9,
   "id": "72e52b7d",
   "metadata": {},
   "outputs": [
    {
     "data": {
      "text/plain": [
       "{'Germany': 'Berlin',\n",
       " 'Russia': 'Moscow',\n",
       " 'Ukraine': 'Kyiv',\n",
       " 'Italy': 'Rome',\n",
       " 'Poland': 'Warsaw',\n",
       " 'Greece': 'Athens',\n",
       " 'France': 'Paris',\n",
       " 'Spain': 'Madrid',\n",
       " 'Portugal': 'Lisbon',\n",
       " 'Ireland': 'Dublin'}"
      ]
     },
     "execution_count": 9,
     "metadata": {},
     "output_type": "execute_result"
    }
   ],
   "source": [
    "Europe = {\"Germany\": \"Berlin\", \"Russia\": \"Moscow\", \"Ukraine\": \"Kyiv\", \"Italy\": \"Rome\", \"Poland\": \"Warsaw\"}\n",
    "Europe_1 = {\"Greece\": \"Athens\", \"France\": \"Paris\", \"Spain\": \"Madrid\", \"Portugal\": \"Lisbon\", \"Ireland\": \"Dublin\"}\n",
    "\n",
    "Europe.update(Europe_1)\n",
    "Europe"
   ]
  },
  {
   "cell_type": "markdown",
   "id": "571cbe4a",
   "metadata": {},
   "source": [
    "# 8) Write a Python program to get the largest number from a list"
   ]
  },
  {
   "cell_type": "code",
   "execution_count": 10,
   "id": "5bf9d074",
   "metadata": {},
   "outputs": [
    {
     "data": {
      "text/plain": [
       "212"
      ]
     },
     "execution_count": 10,
     "metadata": {},
     "output_type": "execute_result"
    }
   ],
   "source": [
    "weight = [23, 98, 106, 45, 40, 52, 88, 12, 63, 78, 212]\n",
    "\n",
    "def max_weight(list):\n",
    "    max = list[0]\n",
    "    for num in list:\n",
    "        if num > max:\n",
    "            max = num\n",
    "    return max\n",
    "\n",
    "max_weight(weight)"
   ]
  },
  {
   "cell_type": "markdown",
   "id": "be0eb0b5",
   "metadata": {},
   "source": [
    "# 9) Write a Python program to remove a key from a dictionary."
   ]
  },
  {
   "cell_type": "code",
   "execution_count": 11,
   "id": "71d09d83",
   "metadata": {},
   "outputs": [
    {
     "name": "stdout",
     "output_type": "stream",
     "text": [
      "{'Books': 3, 'Pens': 10, 'A4 paper': 15, 'Tape': 1, 'Ruler': 4, 'Eraser': 4}\n",
      "{'Books': 3, 'Pens': 10, 'Tape': 1, 'Ruler': 4, 'Eraser': 4}\n"
     ]
    }
   ],
   "source": [
    "Stationary = {\"Books\": 3, \"Pens\": 10, \"A4 paper\": 15, \"Tape\": 1, \"Ruler\": 4, \"Eraser\": 4}\n",
    "print(Stationary)\n",
    "\n",
    "Stationary.pop(\"A4 paper\")\n",
    "print(Stationary)"
   ]
  }
 ],
 "metadata": {
  "kernelspec": {
   "display_name": "Python 3 (ipykernel)",
   "language": "python",
   "name": "python3"
  },
  "language_info": {
   "codemirror_mode": {
    "name": "ipython",
    "version": 3
   },
   "file_extension": ".py",
   "mimetype": "text/x-python",
   "name": "python",
   "nbconvert_exporter": "python",
   "pygments_lexer": "ipython3",
   "version": "3.9.12"
  }
 },
 "nbformat": 4,
 "nbformat_minor": 5
}
